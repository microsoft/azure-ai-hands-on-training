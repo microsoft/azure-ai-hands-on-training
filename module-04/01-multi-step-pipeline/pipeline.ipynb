{
 "cells": [
  {
   "cell_type": "markdown",
   "metadata": {},
   "source": [
    "# Multi-step pipeline example\n",
    "\n",
    "In this example, we'll be building a two step pipeline which passes data from the a first step (prepare) to the second step (train).\n",
    "\n",
    "**Note:** This example requires that you've ran the notebook from the first tutorial, so that the dataset and compute cluster are set up."
   ]
  },
  {
   "cell_type": "code",
   "execution_count": null,
   "metadata": {
    "tags": []
   },
   "outputs": [],
   "source": [
    "import os\n",
    "import azureml.core\n",
    "from azureml.core import Workspace, Experiment, Dataset, RunConfiguration\n",
    "from azureml.pipeline.core import Pipeline, PipelineData\n",
    "from azureml.pipeline.steps import PythonScriptStep\n",
    "from azureml.data.dataset_consumption_config import DatasetConsumptionConfig\n",
    "\n",
    "print(\"Azure ML SDK version:\", azureml.core.VERSION)"
   ]
  },
  {
   "cell_type": "markdown",
   "metadata": {},
   "source": [
    "First, we will connect to the workspace. The command `Workspace.from_config()` will either:\n",
    "* Read the local `config.json` with the workspace reference (given it is there) or\n",
    "* Use the `az` CLI to connect to the workspace and use the workspace attached to via `az ml folder attach -g <resource group> -w <workspace name>`"
   ]
  },
  {
   "cell_type": "code",
   "execution_count": null,
   "metadata": {
    "tags": []
   },
   "outputs": [],
   "source": [
    "ws = Workspace.from_config()\n",
    "print(f'WS name: {ws.name}\\nRegion: {ws.location}\\nSubscription id: {ws.subscription_id}\\nResource group: {ws.resource_group}')"
   ]
  },
  {
   "cell_type": "markdown",
   "metadata": {},
   "source": [
    "Next, let's reference our training dataset from the last tutorial, so that we can use it as the pipeline input for the prepare step:"
   ]
  },
  {
   "cell_type": "code",
   "execution_count": null,
   "metadata": {},
   "outputs": [],
   "source": [
    "\n",
    "training_dataset = Dataset.get_by_name(ws, \"german-credit-train-tutorial\")\n",
    "# Download dataset to compute node - we can also use .as_mount() if the dataset does not fit the machine\n",
    "training_dataset_consumption = DatasetConsumptionConfig(\"training_dataset\", training_dataset).as_download()\n"
   ]
  },
  {
   "cell_type": "markdown",
   "metadata": {},
   "source": [
    "Let's also define a `PipelineData` placeholder which will be used to persist and pipe data from the prepare step to the train step:"
   ]
  },
  {
   "cell_type": "code",
   "execution_count": null,
   "metadata": {},
   "outputs": [],
   "source": [
    "default_datastore = ws.get_default_datastore()\n",
    "prepared_data = PipelineData(\"prepared_data\", datastore=default_datastore)\n"
   ]
  },
  {
   "cell_type": "markdown",
   "metadata": {},
   "source": [
    "Next, we can create our two-stepped pipeline that runs some preprocessing on the data and then pipes the output to the training code. In this case, we use a separate `runconfig` for each step. The dependency graph is automatically resolved through the data input/outputs, but we could also define it ourselves (if desired):"
   ]
  },
  {
   "cell_type": "code",
   "execution_count": null,
   "metadata": {},
   "outputs": [],
   "source": [
    "prepare_runconfig = RunConfiguration.load(\"prepare_runconfig.yml\")\n",
    "\n",
    "prepare_step = PythonScriptStep(name=\"prepare-step\",\n",
    "                        runconfig=prepare_runconfig,\n",
    "                        source_directory=\"./\",\n",
    "                        script_name=prepare_runconfig.script,\n",
    "                        arguments=['--data-input-path', training_dataset_consumption,\n",
    "                                   '--data-output-path', prepared_data],\n",
    "                        inputs=[training_dataset_consumption],\n",
    "                        outputs=[prepared_data],\n",
    "                        allow_reuse=False)\n",
    "\n",
    "train_runconfig = RunConfiguration.load(\"train_runconfig.yml\")\n",
    "\n",
    "train_step = PythonScriptStep(name=\"train-step\",\n",
    "                        runconfig=train_runconfig,\n",
    "                        source_directory=\"./\",\n",
    "                        script_name=train_runconfig.script,\n",
    "                        arguments=['--data-path', prepared_data],\n",
    "                        inputs=[prepared_data],\n",
    "                        allow_reuse=False)\n",
    "\n",
    "train_step.run_after(prepare_step) # not really needed here, just for illustration\n",
    "steps = [prepare_step, train_step]"
   ]
  },
  {
   "cell_type": "markdown",
   "metadata": {},
   "source": [
    "Finally, we can create our pipeline object and validate it. This will check the input and outputs are properly linked and that the pipeline graph is a non-cyclic graph:"
   ]
  },
  {
   "cell_type": "code",
   "execution_count": null,
   "metadata": {
    "tags": []
   },
   "outputs": [],
   "source": [
    "pipeline = Pipeline(workspace=ws, steps=steps)\n",
    "pipeline.validate()"
   ]
  },
  {
   "cell_type": "markdown",
   "metadata": {},
   "source": [
    "Lastly, we can submit the pipeline against an experiment:"
   ]
  },
  {
   "cell_type": "code",
   "execution_count": null,
   "metadata": {
    "tags": [
     "outputPrepend"
    ]
   },
   "outputs": [],
   "source": [
    "pipeline_run = Experiment(ws, 'prepare-training-pipeline').submit(pipeline)\n",
    "pipeline_run.wait_for_completion()"
   ]
  },
  {
   "cell_type": "markdown",
   "metadata": {},
   "source": [
    "Alternatively, we can also publish the pipeline as a RESTful API Endpoint:"
   ]
  },
  {
   "cell_type": "code",
   "execution_count": null,
   "metadata": {},
   "outputs": [],
   "source": [
    "published_pipeline = pipeline.publish('prepare-training-pipeline')\n",
    "published_pipeline"
   ]
  }
 ],
 "metadata": {
  "language_info": {
   "codemirror_mode": {
    "name": "ipython",
    "version": 3
   },
   "file_extension": ".py",
   "mimetype": "text/x-python",
   "name": "python",
   "nbconvert_exporter": "python",
   "pygments_lexer": "ipython3",
   "version": 3
  },
  "orig_nbformat": 2,
  "kernelspec": {
   "name": "python_defaultSpec_1600087044728",
   "display_name": "Python 3.6.10 64-bit ('azureml': conda)"
  }
 },
 "nbformat": 4,
 "nbformat_minor": 2
}