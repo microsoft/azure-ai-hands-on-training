{
 "cells": [
  {
   "cell_type": "markdown",
   "metadata": {},
   "source": [
    "# Test deployed web service"
   ]
  },
  {
   "cell_type": "code",
   "execution_count": null,
   "metadata": {
    "tags": []
   },
   "outputs": [],
   "source": [
    "import requests\n",
    "\n",
    "url = 'http://xxxxxxx-xxxx-xxxx-xxxx-xxxxxxxx.xxxxxx.azurecontainer.io/score'\n",
    "\n",
    "test_data = {\n",
    "  'data': [{\n",
    "    \"Age\": 20,\n",
    "    \"Sex\": \"male\",\n",
    "    \"Job\": 0,\n",
    "    \"Housing\": \"own\",\n",
    "    \"Saving accounts\": \"little\",\n",
    "    \"Checking account\": \"little\",\n",
    "    \"Credit amount\": 100,\n",
    "    \"Duration\": 48,\n",
    "    \"Purpose\": \"radio/TV\"\n",
    "  }]\n",
    "}\n",
    "\n",
    "headers = {'Content-Type': 'application/json'}\n",
    "response = requests.post(url, json=test_data, headers=headers)\n",
    "\n",
    "print(\"Prediction (good, bad):\", response.text)"
   ]
  },
  {
   "cell_type": "code",
   "execution_count": null,
   "metadata": {},
   "outputs": [],
   "source": []
  }
 ],
 "metadata": {
  "language_info": {
   "codemirror_mode": {
    "name": "ipython",
    "version": 3
   },
   "file_extension": ".py",
   "mimetype": "text/x-python",
   "name": "python",
   "nbconvert_exporter": "python",
   "pygments_lexer": "ipython3",
   "version": 3
  },
  "orig_nbformat": 2,
  "kernelspec": {
   "name": "python_defaultSpec_1594218808002",
   "display_name": "Python 3.6.10 64-bit ('azureml': conda)"
  }
 },
 "nbformat": 4,
 "nbformat_minor": 2
}